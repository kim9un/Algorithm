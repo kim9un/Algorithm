{
 "cells": [
  {
   "cell_type": "markdown",
   "metadata": {},
   "source": [
    "1157-단어공부   dict 썼는데 너무 어렵게 풀었다."
   ]
  },
  {
   "cell_type": "code",
   "execution_count": null,
   "metadata": {},
   "outputs": [],
   "source": [
    "a = list(input().upper())\n",
    "b = {}\n",
    "for i in a:\n",
    "   if(i in b):\n",
    "      b[i] = b[i] +1\n",
    "   else:\n",
    "      b[i] = 1\n",
    "c = b.get(a[0])\n",
    "for i in b.values():\n",
    "   if(c<i):\n",
    "      c = i\n",
    "\n",
    "wq = list(b.values())\n",
    "qwc = 0\n",
    "for i in wq:\n",
    "   if(c == i):\n",
    "      qwc += 1\n",
    "if(qwc>1):\n",
    "   print(\"?\")\n",
    "else:\n",
    "   for key, value in b.items():\n",
    "      if value == c:\n",
    "         print(key)\n",
    "\n"
   ]
  },
  {
   "cell_type": "markdown",
   "metadata": {},
   "source": [
    "2941 - 크로아티아 알파벳   -> replace 함수는 값을 반환한다.\n"
   ]
  },
  {
   "cell_type": "code",
   "execution_count": null,
   "metadata": {},
   "outputs": [],
   "source": [
    "a = input()\n",
    "v = [\"c=\",\"d-\",\"s=\",\"dz=\",\"z=\",\"c-\",\"lj\",\"nj\"]\n",
    "\n",
    "for i in v:\n",
    "   if i in a:\n",
    "      a = a.replace(i,\"0\")\n",
    "print(len(a))\n"
   ]
  },
  {
   "cell_type": "markdown",
   "metadata": {},
   "source": [
    "2444-별찍기"
   ]
  },
  {
   "cell_type": "code",
   "execution_count": null,
   "metadata": {},
   "outputs": [],
   "source": [
    "a = int(input())\n",
    "j = a-1\n",
    "for i in range(1,2*a,2):\n",
    "   print(\" \" * j,\"*\"*i, sep =\"\")\n",
    "   j = j-1\n",
    "k = 1\n",
    "for i in range(2*a-3,0,-2):\n",
    "   print(\" \" * k,\"*\"*i, sep =\"\")\n",
    "   k = k+1\n",
    "\n"
   ]
  },
  {
   "cell_type": "markdown",
   "metadata": {},
   "source": [
    "10988 - 팰린드롬인지 확인하기"
   ]
  },
  {
   "cell_type": "code",
   "execution_count": 3,
   "metadata": {},
   "outputs": [
    {
     "name": "stdout",
     "output_type": "stream",
     "text": [
      "0\n"
     ]
    }
   ],
   "source": [
    "a = list(input())\n",
    "b = a[::-1]\n",
    "if(a == b):\n",
    "    print(1)\n",
    "else:\n",
    "    print(0)    \n",
    "    "
   ]
  },
  {
   "cell_type": "markdown",
   "metadata": {},
   "source": []
  }
 ],
 "metadata": {
  "kernelspec": {
   "display_name": "Python 3",
   "language": "python",
   "name": "python3"
  },
  "language_info": {
   "codemirror_mode": {
    "name": "ipython",
    "version": 3
   },
   "file_extension": ".py",
   "mimetype": "text/x-python",
   "name": "python",
   "nbconvert_exporter": "python",
   "pygments_lexer": "ipython3",
   "version": "3.11.4"
  }
 },
 "nbformat": 4,
 "nbformat_minor": 2
}
