{
 "cells": [
  {
   "cell_type": "markdown",
   "metadata": {},
   "source": [
    "1"
   ]
  },
  {
   "cell_type": "code",
   "execution_count": 3,
   "metadata": {},
   "outputs": [
    {
     "name": "stdout",
     "output_type": "stream",
     "text": [
      "==\n"
     ]
    }
   ],
   "source": [
    "def compare(A,B):\n",
    "    if A > B:\n",
    "        print(\">\")\n",
    "    elif A < B:\n",
    "        print(\"<\")\n",
    "    else:\n",
    "        print(\"==\")    \n",
    "\n",
    "A,B = map(int,input().split())\n",
    "compare(A,B)        "
   ]
  },
  {
   "cell_type": "markdown",
   "metadata": {},
   "source": [
    "2"
   ]
  },
  {
   "cell_type": "code",
   "execution_count": 8,
   "metadata": {},
   "outputs": [
    {
     "name": "stdout",
     "output_type": "stream",
     "text": [
      "C\n"
     ]
    }
   ],
   "source": [
    "def score(a):\n",
    "    if a >= 90:\n",
    "        print('A')\n",
    "    elif a >= 80:\n",
    "        print('B')\n",
    "    elif a >= 70:\n",
    "        print('C')\n",
    "    elif a >= 60:\n",
    "        print('D')\n",
    "    else:\n",
    "        print('F')    \n",
    "\n",
    "a = int(input())\n",
    "score(a)"
   ]
  },
  {
   "cell_type": "markdown",
   "metadata": {},
   "source": [
    "3"
   ]
  },
  {
   "cell_type": "code",
   "execution_count": 11,
   "metadata": {},
   "outputs": [
    {
     "name": "stdout",
     "output_type": "stream",
     "text": [
      "1\n"
     ]
    }
   ],
   "source": [
    "def leap_year(a):\n",
    "    if (a % 4 == 0) and ((a % 100 != 0) or (a % 400 == 0)):\n",
    "        print(1)\n",
    "    else:\n",
    "        print(0)\n",
    "\n",
    "a = int(input())\n",
    "leap_year(a)"
   ]
  },
  {
   "cell_type": "markdown",
   "metadata": {},
   "source": [
    "4"
   ]
  },
  {
   "cell_type": "code",
   "execution_count": 16,
   "metadata": {},
   "outputs": [
    {
     "name": "stdout",
     "output_type": "stream",
     "text": [
      "4\n"
     ]
    }
   ],
   "source": [
    "def quadrant(x,y):\n",
    "    if x > 0 and y > 0:\n",
    "        print(1)\n",
    "    elif x < 0 and y > 0:\n",
    "        print(2)    \n",
    "    elif x < 0 and y < 0:\n",
    "        print(3)  \n",
    "    else:\n",
    "        print(4)   \n",
    "\n",
    "x = int(input())\n",
    "y = int(input())\n",
    "quadrant(x,y)"
   ]
  },
  {
   "cell_type": "markdown",
   "metadata": {},
   "source": [
    "5 -> print를 마지막에 넣자\n"
   ]
  },
  {
   "cell_type": "code",
   "execution_count": 4,
   "metadata": {},
   "outputs": [
    {
     "name": "stdout",
     "output_type": "stream",
     "text": [
      "22 55\n"
     ]
    }
   ],
   "source": [
    "def alarm(H,M):\n",
    "    if(H == 0):\n",
    "        if(M < 45):\n",
    "            print(23,60-(45-M),sep=' ')\n",
    "        else:\n",
    "            print(0,M-45,sep=' ')\n",
    "    elif(H != 0):\n",
    "        if(M < 45):\n",
    "          print(H-1,60-(45-M),sep=' ')\n",
    "        else:\n",
    "           print(H,M-45,sep=' ')\n",
    "\n",
    "H,M = map(int, input().split())\n",
    "alarm(H,M)"
   ]
  },
  {
   "cell_type": "markdown",
   "metadata": {},
   "source": [
    "6 -> 한 번에 못 품 쉽게 풀 수 있는 문제였음\n"
   ]
  },
  {
   "cell_type": "code",
   "execution_count": 13,
   "metadata": {},
   "outputs": [
    {
     "name": "stdout",
     "output_type": "stream",
     "text": [
      "14 50\n"
     ]
    }
   ],
   "source": [
    "def grilled_duck(A,B,C):\n",
    "    A += C // 60\n",
    "    B += C % 60\n",
    "    if B >= 60:\n",
    "        A += 1\n",
    "        B -= 60\n",
    "    if A >= 24:\n",
    "        A -= 24\n",
    "    print(A,B)    \n",
    "\n",
    "A,B = map(int, input().split())\n",
    "C = int(input())\n",
    "grilled_duck(A,B,C)            \n",
    "        \n"
   ]
  },
  {
   "cell_type": "markdown",
   "metadata": {},
   "source": [
    "7 -> 개 간단한 문제인데 어렵게 품"
   ]
  },
  {
   "cell_type": "code",
   "execution_count": 22,
   "metadata": {},
   "outputs": [
    {
     "name": "stdout",
     "output_type": "stream",
     "text": [
      "600\n"
     ]
    }
   ],
   "source": [
    "def three_dice(a,b,c):\n",
    "    d = []\n",
    "    d.append(a)\n",
    "    d.append(b)\n",
    "    d.append(c)\n",
    "    v = 0\n",
    "    for i in d:\n",
    "        if(a == i):\n",
    "            v += 1\n",
    "    if(v==3):\n",
    "        print(10000+a*1000)\n",
    "    if(v==2):\n",
    "        print(1000+a*100)\n",
    "    if(v==1):\n",
    "        if(b==c):\n",
    "            print(1000+b*100)\n",
    "        elif(b!=c):\n",
    "            print(max(a,b,c)*100)                \n",
    "\n",
    "\n",
    "a,b,c = map(int,input().split())\n",
    "three_dice(a,b,c)\n",
    "         "
   ]
  },
  {
   "cell_type": "code",
   "execution_count": null,
   "metadata": {},
   "outputs": [],
   "source": []
  }
 ],
 "metadata": {
  "kernelspec": {
   "display_name": "Python 3",
   "language": "python",
   "name": "python3"
  },
  "language_info": {
   "codemirror_mode": {
    "name": "ipython",
    "version": 3
   },
   "file_extension": ".py",
   "mimetype": "text/x-python",
   "name": "python",
   "nbconvert_exporter": "python",
   "pygments_lexer": "ipython3",
   "version": "3.11.4"
  }
 },
 "nbformat": 4,
 "nbformat_minor": 2
}
