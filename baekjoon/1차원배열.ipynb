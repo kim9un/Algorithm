{
 "cells": [
  {
   "cell_type": "markdown",
   "metadata": {},
   "source": [
    "1"
   ]
  },
  {
   "cell_type": "code",
   "execution_count": 18,
   "metadata": {},
   "outputs": [
    {
     "name": "stdout",
     "output_type": "stream",
     "text": [
      "3\n"
     ]
    }
   ],
   "source": [
    "def cal(N):\n",
    "    c = 0\n",
    "    a = list(map(int,input().split()))\n",
    "    V = int(input())    \n",
    "    for i in a:\n",
    "        if(i==V):\n",
    "            c = c+1\n",
    "    print(c)\n",
    "\n",
    "N = int(input())\n",
    "cal(N)"
   ]
  },
  {
   "cell_type": "markdown",
   "metadata": {},
   "source": [
    "2"
   ]
  },
  {
   "cell_type": "code",
   "execution_count": 20,
   "metadata": {},
   "outputs": [
    {
     "name": "stdout",
     "output_type": "stream",
     "text": [
      "1 4 2 3\n"
     ]
    }
   ],
   "source": [
    "def cal(a,b):\n",
    "    d = []\n",
    "    c = list(map(int,input().split()))\n",
    "    for i in c:\n",
    "        if(i<b):\n",
    "            d.append(i)\n",
    "    print(*d)        \n",
    "        \n",
    "\n",
    "\n",
    "a,b = map(int,input().split())\n",
    "cal(a,b)"
   ]
  },
  {
   "cell_type": "markdown",
   "metadata": {},
   "source": [
    "3"
   ]
  },
  {
   "cell_type": "code",
   "execution_count": 22,
   "metadata": {},
   "outputs": [
    {
     "name": "stdout",
     "output_type": "stream",
     "text": [
      "7 35\n"
     ]
    }
   ],
   "source": [
    "def cal(N):\n",
    "    b = list(map(int,input().split()))\n",
    "    a = b[0]\n",
    "    c = b[0]\n",
    "    for i in b:\n",
    "        if(a<i):\n",
    "            a = i\n",
    "        if(c>i):\n",
    "            c = i\n",
    "    print(c , a, sep = \" \")        \n",
    "\n",
    "N = int(input())\n",
    "cal(N)"
   ]
  },
  {
   "cell_type": "markdown",
   "metadata": {},
   "source": [
    "4 -> 다른 사람꺼 봤음\n",
    "list의 요소를 꺼내서 조건/반복문 돌리지말고 리스트 안에서 해라\n",
    "max,min,index 함수 있다.\n"
   ]
  },
  {
   "cell_type": "code",
   "execution_count": 33,
   "metadata": {},
   "outputs": [
    {
     "name": "stdout",
     "output_type": "stream",
     "text": [
      "25\n",
      "3\n"
     ]
    }
   ],
   "source": [
    "def cal():\n",
    "    a = []\n",
    "    for _ in range(9):\n",
    "        a.append(int(input()))\n",
    "    print(max(a),a.index(max(a))+1,sep=\"\\n\")\n",
    "\n",
    "cal()"
   ]
  },
  {
   "cell_type": "markdown",
   "metadata": {},
   "source": [
    "5!!! -> list 깊은 복사는 [:]////\n",
    "0으로 된 1차원 리스트 만드는 방법->[0]*N"
   ]
  },
  {
   "cell_type": "code",
   "execution_count": 40,
   "metadata": {},
   "outputs": [
    {
     "name": "stdout",
     "output_type": "stream",
     "text": [
      "1 2 1 1 0\n"
     ]
    }
   ],
   "source": [
    "def ball(i,j,k,A):\n",
    "    a = A[:]\n",
    "    for b in range(i,j+1):\n",
    "        a[b-1] = k\n",
    "    return a\n",
    "\n",
    "N,M = map(int,input().split())\n",
    "A = [0]*N\n",
    "for _ in range(M):\n",
    "    i,j,k = map(int,input().split())\n",
    "    A = ball(i,j,k,A)\n",
    "print(*A)    "
   ]
  },
  {
   "cell_type": "markdown",
   "metadata": {},
   "source": [
    "6 -> k = list(range(1,N+1,1))  -> 리스트 생성할 때 크기를 잘 생각해야 한다."
   ]
  },
  {
   "cell_type": "code",
   "execution_count": 50,
   "metadata": {},
   "outputs": [
    {
     "name": "stdout",
     "output_type": "stream",
     "text": [
      "3 1 4 2 5\n"
     ]
    }
   ],
   "source": [
    "def ball(i,j,k):\n",
    "    z = k[:]\n",
    "    a = z[i-1]\n",
    "    z[i-1] = z[j-1]\n",
    "    z[j-1] = a\n",
    "    return z\n",
    "\n",
    "N,M = map(int,input().split())\n",
    "k = list(range(1,N+1,1))\n",
    "for _ in range(M):\n",
    "    i,j = map(int,input().split())\n",
    "    k = ball(i,j,k)\n",
    "print(*k)"
   ]
  },
  {
   "cell_type": "markdown",
   "metadata": {},
   "source": [
    "7 - 5597 과제 안내신분"
   ]
  },
  {
   "cell_type": "code",
   "execution_count": 52,
   "metadata": {},
   "outputs": [
    {
     "ename": "ValueError",
     "evalue": "invalid literal for int() with base 10: '3 1 4 5 7 9 6 10 11 12 13 14 15 16 17 18 19 20 21 22 23 24 25 26 27 28 29 30'",
     "output_type": "error",
     "traceback": [
      "\u001b[0;31m---------------------------------------------------------------------------\u001b[0m",
      "\u001b[0;31mValueError\u001b[0m                                Traceback (most recent call last)",
      "Cell \u001b[0;32mIn[52], line 12\u001b[0m\n\u001b[1;32m      9\u001b[0m         \u001b[38;5;28;01mif\u001b[39;00m(a[i] \u001b[38;5;241m!=\u001b[39m b[i]):\n\u001b[1;32m     10\u001b[0m             \u001b[38;5;28mprint\u001b[39m(a[i])\n\u001b[0;32m---> 12\u001b[0m \u001b[43msort\u001b[49m\u001b[43m(\u001b[49m\u001b[43m)\u001b[49m\n",
      "Cell \u001b[0;32mIn[52], line 5\u001b[0m, in \u001b[0;36msort\u001b[0;34m()\u001b[0m\n\u001b[1;32m      3\u001b[0m b \u001b[38;5;241m=\u001b[39m \u001b[38;5;28mlist\u001b[39m(\u001b[38;5;28mrange\u001b[39m(\u001b[38;5;241m1\u001b[39m,\u001b[38;5;241m29\u001b[39m,\u001b[38;5;241m1\u001b[39m))\n\u001b[1;32m      4\u001b[0m \u001b[38;5;28;01mfor\u001b[39;00m _ \u001b[38;5;129;01min\u001b[39;00m \u001b[38;5;28mrange\u001b[39m(\u001b[38;5;241m28\u001b[39m):\n\u001b[0;32m----> 5\u001b[0m     i \u001b[38;5;241m=\u001b[39m \u001b[38;5;28;43mint\u001b[39;49m\u001b[43m(\u001b[49m\u001b[38;5;28;43minput\u001b[39;49m\u001b[43m(\u001b[49m\u001b[43m)\u001b[49m\u001b[43m)\u001b[49m\n\u001b[1;32m      6\u001b[0m     a\u001b[38;5;241m.\u001b[39mappend(i)\n\u001b[1;32m      7\u001b[0m a\u001b[38;5;241m.\u001b[39msort()\n",
      "\u001b[0;31mValueError\u001b[0m: invalid literal for int() with base 10: '3 1 4 5 7 9 6 10 11 12 13 14 15 16 17 18 19 20 21 22 23 24 25 26 27 28 29 30'"
     ]
    }
   ],
   "source": [
    "def sort():\n",
    "    a = [0]*30\n",
    "    for _ in range(28):\n",
    "        b = int(input())\n",
    "        a[b-1] = b\n",
    "    for i in range(30):\n",
    "        if(a[i] == 0):\n",
    "            print(i+1)\n",
    "\n",
    "\n",
    "\n",
    "sort()\n"
   ]
  },
  {
   "cell_type": "markdown",
   "metadata": {},
   "source": [
    "8 - 나머지 - 3052\n",
    "리스트, set, 딕셔너리 크기 -> len()\n",
    ",set함수는 중복 안됨 ->답지봄"
   ]
  },
  {
   "cell_type": "code",
   "execution_count": null,
   "metadata": {},
   "outputs": [],
   "source": [
    "def cal():\n",
    "    b = []\n",
    "    c = [0]*10\n",
    "    v = 1\n",
    "    for i in range(10):\n",
    "        a = int(input())\n",
    "        b.append(a)\n",
    "    for i in range(10):\n",
    "        c[i] = b[i]%42\n",
    "    s = set(c)\n",
    "    print(len(s))\n",
    "\n",
    "cal()"
   ]
  },
  {
   "cell_type": "markdown",
   "metadata": {},
   "source": [
    "9 - 바구니 뒤집기 - 10811 -> reverse 함수 ->답지봄"
   ]
  },
  {
   "cell_type": "code",
   "execution_count": 55,
   "metadata": {},
   "outputs": [
    {
     "ename": "ValueError",
     "evalue": "not enough values to unpack (expected 2, got 0)",
     "output_type": "error",
     "traceback": [
      "\u001b[0;31m---------------------------------------------------------------------------\u001b[0m",
      "\u001b[0;31mValueError\u001b[0m                                Traceback (most recent call last)",
      "Cell \u001b[0;32mIn[55], line 1\u001b[0m\n\u001b[0;32m----> 1\u001b[0m N,M \u001b[38;5;241m=\u001b[39m \u001b[38;5;28mmap\u001b[39m(\u001b[38;5;28mint\u001b[39m, \u001b[38;5;28minput\u001b[39m()\u001b[38;5;241m.\u001b[39msplit())\n\u001b[1;32m      2\u001b[0m q \u001b[38;5;241m=\u001b[39m \u001b[38;5;28mlist\u001b[39m(\u001b[38;5;28mrange\u001b[39m(\u001b[38;5;241m1\u001b[39m,N\u001b[38;5;241m+\u001b[39m\u001b[38;5;241m1\u001b[39m,\u001b[38;5;241m1\u001b[39m))\n\u001b[1;32m      3\u001b[0m \u001b[38;5;28;01mfor\u001b[39;00m _ \u001b[38;5;129;01min\u001b[39;00m \u001b[38;5;28mrange\u001b[39m(M):\n",
      "\u001b[0;31mValueError\u001b[0m: not enough values to unpack (expected 2, got 0)"
     ]
    }
   ],
   "source": [
    "N,M = map(int, input().split())\n",
    "q = list(range(1,N+1,1))\n",
    "for _ in range(M):\n",
    "    i,j = map(int,input().split())\n",
    "    b = q[i-1:j]\n",
    "    b.reverse()\n",
    "    q[i-1:j] = b\n",
    "\n",
    "print(*q)\n"
   ]
  },
  {
   "cell_type": "markdown",
   "metadata": {},
   "source": [
    "10 - 평균 - 1546 -> 좆밥인데?"
   ]
  },
  {
   "cell_type": "code",
   "execution_count": 54,
   "metadata": {},
   "outputs": [
    {
     "data": {
      "text/plain": [
       "80"
      ]
     },
     "execution_count": 54,
     "metadata": {},
     "output_type": "execute_result"
    }
   ],
   "source": [
    "def max(N):\n",
    "    a = N[0]\n",
    "    for i in N:\n",
    "        if(a<i):\n",
    "            a = i\n",
    "    return a\n",
    "\n",
    "def ave(N):\n",
    "    a = 0\n",
    "    for i in N:\n",
    "        a = a + i\n",
    "    return a    \n",
    "    \n",
    "\n",
    "v = int(input())\n",
    "b = list(map(int,input().split()))\n",
    "a = max(b)\n",
    "for i in range(len(b)):\n",
    "    b[i] = b[i]/a*100\n",
    "v = ave(b)    \n",
    "print(v)"
   ]
  },
  {
   "cell_type": "code",
   "execution_count": null,
   "metadata": {},
   "outputs": [],
   "source": []
  }
 ],
 "metadata": {
  "kernelspec": {
   "display_name": "Python 3",
   "language": "python",
   "name": "python3"
  },
  "language_info": {
   "codemirror_mode": {
    "name": "ipython",
    "version": 3
   },
   "file_extension": ".py",
   "mimetype": "text/x-python",
   "name": "python",
   "nbconvert_exporter": "python",
   "pygments_lexer": "ipython3",
   "version": "3.11.4"
  }
 },
 "nbformat": 4,
 "nbformat_minor": 2
}
