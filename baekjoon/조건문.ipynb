{
 "cells": [
  {
   "cell_type": "markdown",
   "metadata": {},
   "source": [
    "1"
   ]
  },
  {
   "cell_type": "code",
   "execution_count": 3,
   "metadata": {},
   "outputs": [
    {
     "name": "stdout",
     "output_type": "stream",
     "text": [
      "==\n"
     ]
    }
   ],
   "source": [
    "def compare(A,B):\n",
    "    if A > B:\n",
    "        print(\">\")\n",
    "    elif A < B:\n",
    "        print(\"<\")\n",
    "    else:\n",
    "        print(\"==\")    \n",
    "\n",
    "A,B = map(int,input().split())\n",
    "compare(A,B)        "
   ]
  },
  {
   "cell_type": "markdown",
   "metadata": {},
   "source": [
    "2"
   ]
  },
  {
   "cell_type": "code",
   "execution_count": 8,
   "metadata": {},
   "outputs": [
    {
     "name": "stdout",
     "output_type": "stream",
     "text": [
      "C\n"
     ]
    }
   ],
   "source": [
    "def score(a):\n",
    "    if a >= 90:\n",
    "        print('A')\n",
    "    elif a >= 80:\n",
    "        print('B')\n",
    "    elif a >= 70:\n",
    "        print('C')\n",
    "    elif a >= 60:\n",
    "        print('D')\n",
    "    else:\n",
    "        print('F')    \n",
    "\n",
    "a = int(input())\n",
    "score(a)"
   ]
  },
  {
   "cell_type": "markdown",
   "metadata": {},
   "source": [
    "3"
   ]
  },
  {
   "cell_type": "code",
   "execution_count": 11,
   "metadata": {},
   "outputs": [
    {
     "name": "stdout",
     "output_type": "stream",
     "text": [
      "1\n"
     ]
    }
   ],
   "source": [
    "def leap_year(a):\n",
    "    if (a % 4 == 0) and ((a % 100 != 0) or (a % 400 == 0)):\n",
    "        print(1)\n",
    "    else:\n",
    "        print(0)\n",
    "\n",
    "a = int(input())\n",
    "leap_year(a)"
   ]
  },
  {
   "cell_type": "markdown",
   "metadata": {},
   "source": [
    "4"
   ]
  },
  {
   "cell_type": "code",
   "execution_count": 16,
   "metadata": {},
   "outputs": [
    {
     "name": "stdout",
     "output_type": "stream",
     "text": [
      "4\n"
     ]
    }
   ],
   "source": [
    "def quadrant(x,y):\n",
    "    if x > 0 and y > 0:\n",
    "        print(1)\n",
    "    elif x < 0 and y > 0:\n",
    "        print(2)    \n",
    "    elif x < 0 and y < 0:\n",
    "        print(3)  \n",
    "    else:\n",
    "        print(4)   \n",
    "\n",
    "x = int(input())\n",
    "y = int(input())\n",
    "quadrant(x,y)"
   ]
  },
  {
   "cell_type": "markdown",
   "metadata": {},
   "source": [
    "5"
   ]
  },
  {
   "cell_type": "code",
   "execution_count": 30,
   "metadata": {},
   "outputs": [
    {
     "name": "stdout",
     "output_type": "stream",
     "text": [
      "22 55\n"
     ]
    }
   ],
   "source": [
    "def alarm(H,M):\n",
    "    a = M - 45\n",
    "    b = H - 1\n",
    "    if(a<0 and b < 0):\n",
    "        print(23,60 + a, sep = ' ')\n",
    "    elif (a<0 and b >0):\n",
    "        print(b,60 + a, sep = ' ')\n",
    "    elif (a>0 and b > 0):\n",
    "        print(b+1,60-a,sep=' ')\n",
    "\n",
    "H,M = map(int, input().split())\n",
    "alarm(H,M)"
   ]
  },
  {
   "cell_type": "code",
   "execution_count": null,
   "metadata": {},
   "outputs": [],
   "source": [
    "def alarm(H,M):\n",
    "    a = M - 45\n",
    "    b = H - 1\n",
    "    if(a<0 and b < 0):\n",
    "        print(23,60 + a, sep = ' ')\n",
    "    elif (a<0 and b >0):\n",
    "        print(b,60 + a, sep = ' ')\n",
    "    elif (a>0 and b > 0):\n",
    "        print(b+1,60-a,sep=' ')\n",
    "\n",
    "H,M = map(int, input().split())\n",
    "alarm(H,M)"
   ]
  }
 ],
 "metadata": {
  "kernelspec": {
   "display_name": "Python 3",
   "language": "python",
   "name": "python3"
  },
  "language_info": {
   "codemirror_mode": {
    "name": "ipython",
    "version": 3
   },
   "file_extension": ".py",
   "mimetype": "text/x-python",
   "name": "python",
   "nbconvert_exporter": "python",
   "pygments_lexer": "ipython3",
   "version": "3.11.4"
  }
 },
 "nbformat": 4,
 "nbformat_minor": 2
}
