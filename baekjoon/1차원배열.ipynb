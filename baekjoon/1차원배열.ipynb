{
 "cells": [
  {
   "cell_type": "markdown",
   "metadata": {},
   "source": [
    "1"
   ]
  },
  {
   "cell_type": "code",
   "execution_count": 18,
   "metadata": {},
   "outputs": [
    {
     "name": "stdout",
     "output_type": "stream",
     "text": [
      "3\n"
     ]
    }
   ],
   "source": [
    "def cal(N):\n",
    "    c = 0\n",
    "    a = list(map(int,input().split()))\n",
    "    V = int(input())    \n",
    "    for i in a:\n",
    "        if(i==V):\n",
    "            c = c+1\n",
    "    print(c)\n",
    "\n",
    "N = int(input())\n",
    "cal(N)"
   ]
  },
  {
   "cell_type": "markdown",
   "metadata": {},
   "source": [
    "2"
   ]
  },
  {
   "cell_type": "code",
   "execution_count": 20,
   "metadata": {},
   "outputs": [
    {
     "name": "stdout",
     "output_type": "stream",
     "text": [
      "1 4 2 3\n"
     ]
    }
   ],
   "source": [
    "def cal(a,b):\n",
    "    d = []\n",
    "    c = list(map(int,input().split()))\n",
    "    for i in c:\n",
    "        if(i<b):\n",
    "            d.append(i)\n",
    "    print(*d)        \n",
    "        \n",
    "\n",
    "\n",
    "a,b = map(int,input().split())\n",
    "cal(a,b)"
   ]
  },
  {
   "cell_type": "code",
   "execution_count": null,
   "metadata": {},
   "outputs": [],
   "source": []
  }
 ],
 "metadata": {
  "kernelspec": {
   "display_name": "Python 3",
   "language": "python",
   "name": "python3"
  },
  "language_info": {
   "codemirror_mode": {
    "name": "ipython",
    "version": 3
   },
   "file_extension": ".py",
   "mimetype": "text/x-python",
   "name": "python",
   "nbconvert_exporter": "python",
   "pygments_lexer": "ipython3",
   "version": "3.11.4"
  }
 },
 "nbformat": 4,
 "nbformat_minor": 2
}
