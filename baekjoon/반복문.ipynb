{
 "cells": [
  {
   "cell_type": "markdown",
   "metadata": {},
   "source": [
    "1"
   ]
  },
  {
   "cell_type": "code",
   "execution_count": 10,
   "metadata": {},
   "outputs": [
    {
     "name": "stdout",
     "output_type": "stream",
     "text": [
      "3.0000 * 1 = 3\n",
      "3.0000 * 2 = 6\n",
      "3.0000 * 3 = 9\n",
      "3.0000 * 4 = 12\n",
      "3.0000 * 5 = 15\n",
      "3.0000 * 6 = 18\n",
      "3.0000 * 7 = 21\n",
      "3.0000 * 8 = 24\n",
      "3.0000 * 9 = 27\n"
     ]
    }
   ],
   "source": [
    "def gugu(N):\n",
    "    for i in range(1,10):\n",
    "        print(f\"{N:.4f} * {i} = {N*i}\")\n",
    "\n",
    "N = int(input())\n",
    "gugu(N)\n"
   ]
  },
  {
   "cell_type": "markdown",
   "metadata": {},
   "source": [
    "2"
   ]
  },
  {
   "cell_type": "code",
   "execution_count": 31,
   "metadata": {},
   "outputs": [
    {
     "name": "stdout",
     "output_type": "stream",
     "text": [
      "2\n",
      "5\n",
      "7\n",
      "17\n",
      "7\n"
     ]
    }
   ],
   "source": [
    "def plus(A):\n",
    "    for x,y in A:\n",
    "        print(x+y)\n",
    "            \n",
    "\n",
    "A = [list(map(int,input().split())) for _ in range(int(input()))]   \n",
    "plus(A)"
   ]
  },
  {
   "cell_type": "code",
   "execution_count": 32,
   "metadata": {},
   "outputs": [
    {
     "name": "stdout",
     "output_type": "stream",
     "text": [
      "2\n",
      "5\n",
      "7\n",
      "17\n",
      "7\n"
     ]
    }
   ],
   "source": [
    "a = int(input())\n",
    "for i in range(a):\n",
    "    c ,g = map(int,input().split())\n",
    "    print(c+g)"
   ]
  },
  {
   "cell_type": "code",
   "execution_count": null,
   "metadata": {},
   "outputs": [],
   "source": []
  },
  {
   "cell_type": "code",
   "execution_count": null,
   "metadata": {},
   "outputs": [],
   "source": []
  }
 ],
 "metadata": {
  "kernelspec": {
   "display_name": "Python 3",
   "language": "python",
   "name": "python3"
  },
  "language_info": {
   "codemirror_mode": {
    "name": "ipython",
    "version": 3
   },
   "file_extension": ".py",
   "mimetype": "text/x-python",
   "name": "python",
   "nbconvert_exporter": "python",
   "pygments_lexer": "ipython3",
   "version": "3.11.4"
  }
 },
 "nbformat": 4,
 "nbformat_minor": 2
}
