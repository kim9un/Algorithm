{
 "cells": [
  {
   "cell_type": "markdown",
   "metadata": {},
   "source": [
    "27866 - 문자와 문자열\n"
   ]
  },
  {
   "cell_type": "code",
   "execution_count": null,
   "metadata": {},
   "outputs": [],
   "source": [
    "a = input()\n",
    "b = int(input())\n",
    "\n",
    "print(a[b-1])"
   ]
  },
  {
   "cell_type": "markdown",
   "metadata": {},
   "source": [
    "2743 - 단어 길이 재기 "
   ]
  },
  {
   "cell_type": "code",
   "execution_count": null,
   "metadata": {},
   "outputs": [],
   "source": [
    "a = input()\n",
    "print(len(a))"
   ]
  },
  {
   "cell_type": "markdown",
   "metadata": {},
   "source": [
    "9086 - 문자열"
   ]
  },
  {
   "cell_type": "code",
   "execution_count": null,
   "metadata": {},
   "outputs": [],
   "source": [
    "def cal(N):\n",
    "    c = N[0]\n",
    "    f = N[len(N)-1]\n",
    "    print(c,f,sep=\"\")\n",
    "\n",
    "\n",
    "a = int(input())\n",
    "for _ in range(a):\n",
    "    v = input()\n",
    "    cal(v)\n"
   ]
  },
  {
   "cell_type": "markdown",
   "metadata": {},
   "source": [
    "11654 - 아스키 코드   ->아스키 코드변환 함수는 ord"
   ]
  },
  {
   "cell_type": "code",
   "execution_count": null,
   "metadata": {},
   "outputs": [],
   "source": [
    "\n",
    "a = input()\n",
    "print(ord(a))"
   ]
  },
  {
   "cell_type": "markdown",
   "metadata": {},
   "source": [
    "11720 - 숫자의 합   -> 문자열을 리스트로 만들면 하나 하나 빼서 리스트에 넣어줌"
   ]
  },
  {
   "cell_type": "code",
   "execution_count": null,
   "metadata": {},
   "outputs": [],
   "source": [
    "def sum(a):\n",
    "    c = 0\n",
    "    for i in list(a):\n",
    "        c = c + int(i)\n",
    "    print(c)\n",
    "\n",
    "cx = int(input())\n",
    "w = input()\n",
    "sum(w)"
   ]
  },
  {
   "cell_type": "markdown",
   "metadata": {},
   "source": [
    "10809 - 알파벳 찾기"
   ]
  },
  {
   "cell_type": "code",
   "execution_count": null,
   "metadata": {},
   "outputs": [],
   "source": [
    "a = \"abcdefghijklmnopqrstuvwxyz\"\n",
    "v = input()\n",
    "for i in a:\n",
    "    print(v.find(i),end=\" \")\n",
    "\n"
   ]
  },
  {
   "cell_type": "markdown",
   "metadata": {},
   "source": [
    "2675 - 문자열 반복"
   ]
  },
  {
   "cell_type": "code",
   "execution_count": null,
   "metadata": {},
   "outputs": [],
   "source": [
    "Case = int(input())\n",
    "\n",
    "for i in range(Case):\n",
    "    N, S = input().split()\n",
    "    for j in range(len(S)):\n",
    "        print(S[j] * int(N), end = '')\n",
    "    print('')"
   ]
  },
  {
   "cell_type": "markdown",
   "metadata": {},
   "source": [
    "1152 - 단어의 개수"
   ]
  },
  {
   "cell_type": "code",
   "execution_count": null,
   "metadata": {},
   "outputs": [],
   "source": [
    "a = input()\n",
    "b = a.rstrip().lstrip().split()\n",
    "print(len(b))"
   ]
  },
  {
   "cell_type": "markdown",
   "metadata": {},
   "source": [
    "2908 - 상수"
   ]
  },
  {
   "cell_type": "code",
   "execution_count": null,
   "metadata": {},
   "outputs": [],
   "source": [
    "a, b = input().split()\n",
    "a = list(a)\n",
    "a = a[::-1]\n",
    "b = list(b)\n",
    "b = b[::-1]\n",
    "c = \"\"\n",
    "d = \"\"\n",
    "for i in range(len(a)):\n",
    "    c = c + a[i]\n",
    "    d = d + b[i]\n",
    "if(int(c)>int(d)):\n",
    "    print(int(c))\n",
    "else:\n",
    "    print(int(d))"
   ]
  },
  {
   "cell_type": "markdown",
   "metadata": {},
   "source": []
  },
  {
   "cell_type": "code",
   "execution_count": 3,
   "metadata": {},
   "outputs": [
    {
     "name": "stdout",
     "output_type": "stream",
     "text": [
      "0\n"
     ]
    }
   ],
   "source": [
    "a = input()\n",
    "b = \"abcdefghijklmnopqrstuvwxyz\".upper()\n",
    "c = [3,3,3,4,4,4,5,5,5,6,6,6,7,7,7,8,8,8,8,9,9,9,10,10,10,10]\n",
    "cx = 0\n",
    "for i in list(a):\n",
    "   cx = cx+ c[b.index(i)]\n",
    "\n",
    "print(cx)\n",
    "\n",
    "\n",
    "\n"
   ]
  },
  {
   "cell_type": "markdown",
   "metadata": {},
   "source": []
  },
  {
   "cell_type": "markdown",
   "metadata": {},
   "source": [
    "a = list(input().upper())\n",
    "b = {}\n",
    "for i in a:\n",
    "   if(i in b):\n",
    "      b[i] = b[i] +1\n",
    "   else:\n",
    "      b[i] = 1\n",
    "c = b.get(a[0])\n",
    "for i in b.values():\n",
    "   if(c<i):\n",
    "      c = i\n",
    "\n",
    "wq = list(b.values())\n",
    "qwc = 0\n",
    "for i in wq:\n",
    "   if(c == i):\n",
    "      qwc += 1\n",
    "if(qwc>1):\n",
    "   print(\"?\")\n",
    "else:\n",
    "   for key, value in b.items():\n",
    "      if value == c:\n",
    "         print(key)\n",
    "\n"
   ]
  },
  {
   "cell_type": "markdown",
   "metadata": {},
   "source": []
  },
  {
   "cell_type": "code",
   "execution_count": null,
   "metadata": {},
   "outputs": [],
   "source": [
    "a = input()\n",
    "v = [\"c=\",\"d-\",\"s=\",\"dz=\",\"z=\",\"c-\",\"lj\",\"nj\"]\n",
    "\n",
    "for i in v:\n",
    "   if i in a:\n",
    "      a = a.replace(i,\"0\")\n",
    "print(len(a))\n",
    "\n",
    "\n",
    "\n"
   ]
  }
 ],
 "metadata": {
  "kernelspec": {
   "display_name": "Python 3",
   "language": "python",
   "name": "python3"
  },
  "language_info": {
   "codemirror_mode": {
    "name": "ipython",
    "version": 3
   },
   "file_extension": ".py",
   "mimetype": "text/x-python",
   "name": "python",
   "nbconvert_exporter": "python",
   "pygments_lexer": "ipython3",
   "version": "3.11.4"
  }
 },
 "nbformat": 4,
 "nbformat_minor": 2
}
